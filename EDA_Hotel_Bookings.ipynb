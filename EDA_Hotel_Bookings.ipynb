{
 "cells": [
  {
   "cell_type": "markdown",
   "metadata": {},
   "source": [
    "# Data Storytelling - Hotel Bookings\n",
    "\n",
    "This notebook analyzes hotel bookings from two hotels over the span of two years to identify and illustrate relevant booking trends. \n",
    "\n",
    "The dataset was acquired from [Kaggle](https://www.kaggle.com/mojtaba142/hotel-booking)."
   ]
  },
  {
   "cell_type": "code",
   "execution_count": 1,
   "metadata": {},
   "outputs": [],
   "source": [
    "import numpy as np\n",
    "from datetime import datetime\n",
    "import pandas as pd\n",
    "import matplotlib.pyplot as plt\n",
    "import seaborn as sns"
   ]
  },
  {
   "cell_type": "code",
   "execution_count": 2,
   "metadata": {},
   "outputs": [
    {
     "name": "stdout",
     "output_type": "stream",
     "text": [
      "<class 'pandas.core.frame.DataFrame'>\n",
      "RangeIndex: 119390 entries, 0 to 119389\n",
      "Data columns (total 36 columns):\n",
      " #   Column                          Non-Null Count   Dtype  \n",
      "---  ------                          --------------   -----  \n",
      " 0   hotel                           119390 non-null  object \n",
      " 1   is_canceled                     119390 non-null  int64  \n",
      " 2   lead_time                       119390 non-null  int64  \n",
      " 3   arrival_date_year               119390 non-null  int64  \n",
      " 4   arrival_date_month              119390 non-null  object \n",
      " 5   arrival_date_week_number        119390 non-null  int64  \n",
      " 6   arrival_date_day_of_month       119390 non-null  int64  \n",
      " 7   stays_in_weekend_nights         119390 non-null  int64  \n",
      " 8   stays_in_week_nights            119390 non-null  int64  \n",
      " 9   adults                          119390 non-null  int64  \n",
      " 10  children                        119386 non-null  float64\n",
      " 11  babies                          119390 non-null  int64  \n",
      " 12  meal                            119390 non-null  object \n",
      " 13  country                         118902 non-null  object \n",
      " 14  market_segment                  119390 non-null  object \n",
      " 15  distribution_channel            119390 non-null  object \n",
      " 16  is_repeated_guest               119390 non-null  int64  \n",
      " 17  previous_cancellations          119390 non-null  int64  \n",
      " 18  previous_bookings_not_canceled  119390 non-null  int64  \n",
      " 19  reserved_room_type              119390 non-null  object \n",
      " 20  assigned_room_type              119390 non-null  object \n",
      " 21  booking_changes                 119390 non-null  int64  \n",
      " 22  deposit_type                    119390 non-null  object \n",
      " 23  agent                           103050 non-null  float64\n",
      " 24  company                         6797 non-null    float64\n",
      " 25  days_in_waiting_list            119390 non-null  int64  \n",
      " 26  customer_type                   119390 non-null  object \n",
      " 27  adr                             119390 non-null  float64\n",
      " 28  required_car_parking_spaces     119390 non-null  int64  \n",
      " 29  total_of_special_requests       119390 non-null  int64  \n",
      " 30  reservation_status              119390 non-null  object \n",
      " 31  reservation_status_date         119390 non-null  object \n",
      " 32  name                            119390 non-null  object \n",
      " 33  email                           119390 non-null  object \n",
      " 34  phone-number                    119390 non-null  object \n",
      " 35  credit_card                     119390 non-null  object \n",
      "dtypes: float64(4), int64(16), object(16)\n",
      "memory usage: 32.8+ MB\n"
     ]
    }
   ],
   "source": [
    "# Import data\n",
    "\n",
    "bookings = pd.read_csv('data/hotel_booking.csv')\n",
    "bookings.info()"
   ]
  },
  {
   "cell_type": "markdown",
   "metadata": {},
   "source": [
    "## Data Wrangling"
   ]
  },
  {
   "cell_type": "code",
   "execution_count": 3,
   "metadata": {},
   "outputs": [],
   "source": [
    "# Remove cancellations\n",
    "\n",
    "bookings = bookings[bookings['is_canceled'] == 0].reset_index()"
   ]
  },
  {
   "cell_type": "code",
   "execution_count": 4,
   "metadata": {},
   "outputs": [],
   "source": [
    "# Fill null values in the children column with 0\n",
    "\n",
    "bookings['children'].fillna(value=0, inplace=True)"
   ]
  },
  {
   "cell_type": "code",
   "execution_count": 5,
   "metadata": {},
   "outputs": [],
   "source": [
    "# Calculate total number of guests\n",
    "\n",
    "bookings['total_guests'] = pd.Series(dtype='int')\n",
    "\n",
    "for i in np.arange(len(bookings)):\n",
    "    bookings.loc[i, 'total_guests'] = bookings['adults'][i] + bookings['children'][i] + bookings['babies'][i]"
   ]
  },
  {
   "cell_type": "code",
   "execution_count": 6,
   "metadata": {},
   "outputs": [
    {
     "data": {
      "text/plain": [
       "0       2015-07-01\n",
       "1       2015-07-01\n",
       "2       2015-07-01\n",
       "3       2015-07-01\n",
       "4       2015-07-01\n",
       "           ...    \n",
       "75161   2017-08-30\n",
       "75162   2017-08-31\n",
       "75163   2017-08-31\n",
       "75164   2017-08-31\n",
       "75165   2017-08-29\n",
       "Name: arrival_date, Length: 75166, dtype: datetime64[ns]"
      ]
     },
     "execution_count": 6,
     "metadata": {},
     "output_type": "execute_result"
    }
   ],
   "source": [
    "# Convert arrival dates into datetime objects\n",
    "\n",
    "bookings['arrival_date'] = pd.Series(dtype='datetime64[ns]')\n",
    "\n",
    "for i in np.arange(len(bookings)):\n",
    "    day = str(bookings['arrival_date_day_of_month'][i])\n",
    "    month = str(bookings['arrival_date_month'][i])\n",
    "    year = str(bookings['arrival_date_year'][i])\n",
    "    date_string = ' '.join([day, month, year])\n",
    "    bookings.loc[i, 'arrival_date'] = datetime.strptime(date_string, \"%d %B %Y\")\n",
    "\n",
    "bookings['arrival_date']"
   ]
  },
  {
   "cell_type": "code",
   "execution_count": 7,
   "metadata": {},
   "outputs": [
    {
     "data": {
      "text/plain": [
       "0       2015-09-01\n",
       "1       2015-09-01\n",
       "2       2015-09-01\n",
       "3       2015-09-01\n",
       "4       2015-09-01\n",
       "           ...    \n",
       "71353   2017-08-30\n",
       "71354   2017-08-31\n",
       "71355   2017-08-31\n",
       "71356   2017-08-31\n",
       "71357   2017-08-29\n",
       "Name: arrival_date, Length: 71358, dtype: datetime64[ns]"
      ]
     },
     "execution_count": 7,
     "metadata": {},
     "output_type": "execute_result"
    }
   ],
   "source": [
    "# Drop first couple months from the dataset so that there is an equal representation of each month across the two years\n",
    "\n",
    "bookings = bookings[bookings['arrival_date'] > '2015-08-31'].reset_index()\n",
    "bookings['arrival_date']"
   ]
  },
  {
   "cell_type": "code",
   "execution_count": 8,
   "metadata": {},
   "outputs": [
    {
     "data": {
      "text/plain": [
       "0       2015-09-04\n",
       "1       2015-09-04\n",
       "2       2015-09-04\n",
       "3       2015-09-05\n",
       "4       2015-09-05\n",
       "           ...    \n",
       "71353   2017-09-06\n",
       "71354   2017-09-07\n",
       "71355   2017-09-07\n",
       "71356   2017-09-07\n",
       "71357   2017-09-07\n",
       "Name: reservation_status_date, Length: 71358, dtype: datetime64[ns]"
      ]
     },
     "execution_count": 8,
     "metadata": {},
     "output_type": "execute_result"
    }
   ],
   "source": [
    "# Convert reservation status dates into datetime objects\n",
    "\n",
    "bookings['reservation_status_date'] = pd.to_datetime(bookings.reservation_status_date)\n",
    "bookings['reservation_status_date']"
   ]
  },
  {
   "cell_type": "code",
   "execution_count": 9,
   "metadata": {},
   "outputs": [],
   "source": [
    "# Calculate length of stay\n",
    "\n",
    "bookings['length_of_stay'] = pd.Series(dtype='int')\n",
    "\n",
    "for i in np.arange(len(bookings)-1):\n",
    "    bookings.loc[i, 'length_of_stay'] = abs(bookings['reservation_status_date'][i] - bookings['arrival_date'][i]).days"
   ]
  },
  {
   "cell_type": "code",
   "execution_count": 10,
   "metadata": {},
   "outputs": [
    {
     "data": {
      "text/html": [
       "<div>\n",
       "<style scoped>\n",
       "    .dataframe tbody tr th:only-of-type {\n",
       "        vertical-align: middle;\n",
       "    }\n",
       "\n",
       "    .dataframe tbody tr th {\n",
       "        vertical-align: top;\n",
       "    }\n",
       "\n",
       "    .dataframe thead th {\n",
       "        text-align: right;\n",
       "    }\n",
       "</style>\n",
       "<table border=\"1\" class=\"dataframe\">\n",
       "  <thead>\n",
       "    <tr style=\"text-align: right;\">\n",
       "      <th></th>\n",
       "      <th>hotel</th>\n",
       "      <th>total_guests</th>\n",
       "      <th>lead_time</th>\n",
       "      <th>arrival_date</th>\n",
       "      <th>arrival_date_month</th>\n",
       "      <th>arrival_date_year</th>\n",
       "      <th>reservation_status</th>\n",
       "      <th>reservation_status_date</th>\n",
       "      <th>length_of_stay</th>\n",
       "    </tr>\n",
       "  </thead>\n",
       "  <tbody>\n",
       "    <tr>\n",
       "      <th>0</th>\n",
       "      <td>Resort Hotel</td>\n",
       "      <td>2.0</td>\n",
       "      <td>48</td>\n",
       "      <td>2015-09-01</td>\n",
       "      <td>September</td>\n",
       "      <td>2015</td>\n",
       "      <td>Check-Out</td>\n",
       "      <td>2015-09-04</td>\n",
       "      <td>3.0</td>\n",
       "    </tr>\n",
       "    <tr>\n",
       "      <th>1</th>\n",
       "      <td>Resort Hotel</td>\n",
       "      <td>2.0</td>\n",
       "      <td>48</td>\n",
       "      <td>2015-09-01</td>\n",
       "      <td>September</td>\n",
       "      <td>2015</td>\n",
       "      <td>Check-Out</td>\n",
       "      <td>2015-09-04</td>\n",
       "      <td>3.0</td>\n",
       "    </tr>\n",
       "    <tr>\n",
       "      <th>2</th>\n",
       "      <td>Resort Hotel</td>\n",
       "      <td>3.0</td>\n",
       "      <td>27</td>\n",
       "      <td>2015-09-01</td>\n",
       "      <td>September</td>\n",
       "      <td>2015</td>\n",
       "      <td>Check-Out</td>\n",
       "      <td>2015-09-04</td>\n",
       "      <td>3.0</td>\n",
       "    </tr>\n",
       "    <tr>\n",
       "      <th>3</th>\n",
       "      <td>Resort Hotel</td>\n",
       "      <td>4.0</td>\n",
       "      <td>50</td>\n",
       "      <td>2015-09-01</td>\n",
       "      <td>September</td>\n",
       "      <td>2015</td>\n",
       "      <td>Check-Out</td>\n",
       "      <td>2015-09-05</td>\n",
       "      <td>4.0</td>\n",
       "    </tr>\n",
       "    <tr>\n",
       "      <th>4</th>\n",
       "      <td>Resort Hotel</td>\n",
       "      <td>2.0</td>\n",
       "      <td>122</td>\n",
       "      <td>2015-09-01</td>\n",
       "      <td>September</td>\n",
       "      <td>2015</td>\n",
       "      <td>Check-Out</td>\n",
       "      <td>2015-09-05</td>\n",
       "      <td>4.0</td>\n",
       "    </tr>\n",
       "  </tbody>\n",
       "</table>\n",
       "</div>"
      ],
      "text/plain": [
       "          hotel  total_guests  lead_time arrival_date arrival_date_month  \\\n",
       "0  Resort Hotel           2.0         48   2015-09-01          September   \n",
       "1  Resort Hotel           2.0         48   2015-09-01          September   \n",
       "2  Resort Hotel           3.0         27   2015-09-01          September   \n",
       "3  Resort Hotel           4.0         50   2015-09-01          September   \n",
       "4  Resort Hotel           2.0        122   2015-09-01          September   \n",
       "\n",
       "   arrival_date_year reservation_status reservation_status_date  \\\n",
       "0               2015          Check-Out              2015-09-04   \n",
       "1               2015          Check-Out              2015-09-04   \n",
       "2               2015          Check-Out              2015-09-04   \n",
       "3               2015          Check-Out              2015-09-05   \n",
       "4               2015          Check-Out              2015-09-05   \n",
       "\n",
       "   length_of_stay  \n",
       "0             3.0  \n",
       "1             3.0  \n",
       "2             3.0  \n",
       "3             4.0  \n",
       "4             4.0  "
      ]
     },
     "execution_count": 10,
     "metadata": {},
     "output_type": "execute_result"
    }
   ],
   "source": [
    "# Select necessary columns\n",
    "\n",
    "df = bookings[['hotel', 'total_guests', 'lead_time', 'arrival_date', 'arrival_date_month',\n",
    "               'arrival_date_year', 'reservation_status', 'reservation_status_date', 'length_of_stay']]\n",
    "df.head()"
   ]
  },
  {
   "cell_type": "markdown",
   "metadata": {},
   "source": [
    "## Data Exploration"
   ]
  },
  {
   "cell_type": "markdown",
   "metadata": {},
   "source": [
    "To look at the booking trends over time, the total number of bookings, the average length of stay, and the average time booked in advance will be calculated for each month of each year."
   ]
  },
  {
   "cell_type": "code",
   "execution_count": 11,
   "metadata": {},
   "outputs": [
    {
     "data": {
      "text/html": [
       "<div>\n",
       "<style scoped>\n",
       "    .dataframe tbody tr th:only-of-type {\n",
       "        vertical-align: middle;\n",
       "    }\n",
       "\n",
       "    .dataframe tbody tr th {\n",
       "        vertical-align: top;\n",
       "    }\n",
       "\n",
       "    .dataframe thead th {\n",
       "        text-align: right;\n",
       "    }\n",
       "</style>\n",
       "<table border=\"1\" class=\"dataframe\">\n",
       "  <thead>\n",
       "    <tr style=\"text-align: right;\">\n",
       "      <th></th>\n",
       "      <th>arrival_date_year</th>\n",
       "      <th>arrival_date_month</th>\n",
       "      <th>bookings</th>\n",
       "      <th>avg_lead_time</th>\n",
       "      <th>avg_stay</th>\n",
       "      <th>arrival_date_month_year</th>\n",
       "    </tr>\n",
       "    <tr>\n",
       "      <th>arrival_date</th>\n",
       "      <th></th>\n",
       "      <th></th>\n",
       "      <th></th>\n",
       "      <th></th>\n",
       "      <th></th>\n",
       "      <th></th>\n",
       "    </tr>\n",
       "  </thead>\n",
       "  <tbody>\n",
       "    <tr>\n",
       "      <th>2015-09-01</th>\n",
       "      <td>2015</td>\n",
       "      <td>September</td>\n",
       "      <td>3020</td>\n",
       "      <td>75.623841</td>\n",
       "      <td>3.653974</td>\n",
       "      <td>September 2015</td>\n",
       "    </tr>\n",
       "    <tr>\n",
       "      <th>2015-10-01</th>\n",
       "      <td>2015</td>\n",
       "      <td>October</td>\n",
       "      <td>3225</td>\n",
       "      <td>65.189457</td>\n",
       "      <td>3.104496</td>\n",
       "      <td>October 2015</td>\n",
       "    </tr>\n",
       "    <tr>\n",
       "      <th>2015-11-01</th>\n",
       "      <td>2015</td>\n",
       "      <td>November</td>\n",
       "      <td>1854</td>\n",
       "      <td>39.799892</td>\n",
       "      <td>3.170442</td>\n",
       "      <td>November 2015</td>\n",
       "    </tr>\n",
       "    <tr>\n",
       "      <th>2015-12-01</th>\n",
       "      <td>2015</td>\n",
       "      <td>December</td>\n",
       "      <td>1947</td>\n",
       "      <td>38.725732</td>\n",
       "      <td>2.928608</td>\n",
       "      <td>December 2015</td>\n",
       "    </tr>\n",
       "    <tr>\n",
       "      <th>2016-01-01</th>\n",
       "      <td>2016</td>\n",
       "      <td>January</td>\n",
       "      <td>1691</td>\n",
       "      <td>20.138380</td>\n",
       "      <td>2.504435</td>\n",
       "      <td>January 2016</td>\n",
       "    </tr>\n",
       "    <tr>\n",
       "      <th>2016-02-01</th>\n",
       "      <td>2016</td>\n",
       "      <td>February</td>\n",
       "      <td>2554</td>\n",
       "      <td>26.624511</td>\n",
       "      <td>2.760767</td>\n",
       "      <td>February 2016</td>\n",
       "    </tr>\n",
       "    <tr>\n",
       "      <th>2016-03-01</th>\n",
       "      <td>2016</td>\n",
       "      <td>March</td>\n",
       "      <td>3347</td>\n",
       "      <td>42.221990</td>\n",
       "      <td>3.071407</td>\n",
       "      <td>March 2016</td>\n",
       "    </tr>\n",
       "    <tr>\n",
       "      <th>2016-04-01</th>\n",
       "      <td>2016</td>\n",
       "      <td>April</td>\n",
       "      <td>3367</td>\n",
       "      <td>65.636769</td>\n",
       "      <td>3.128304</td>\n",
       "      <td>April 2016</td>\n",
       "    </tr>\n",
       "    <tr>\n",
       "      <th>2016-05-01</th>\n",
       "      <td>2016</td>\n",
       "      <td>May</td>\n",
       "      <td>3563</td>\n",
       "      <td>94.985125</td>\n",
       "      <td>3.266629</td>\n",
       "      <td>May 2016</td>\n",
       "    </tr>\n",
       "    <tr>\n",
       "      <th>2016-06-01</th>\n",
       "      <td>2016</td>\n",
       "      <td>June</td>\n",
       "      <td>3196</td>\n",
       "      <td>102.246245</td>\n",
       "      <td>3.560388</td>\n",
       "      <td>June 2016</td>\n",
       "    </tr>\n",
       "    <tr>\n",
       "      <th>2016-07-01</th>\n",
       "      <td>2016</td>\n",
       "      <td>July</td>\n",
       "      <td>3073</td>\n",
       "      <td>109.637488</td>\n",
       "      <td>3.882200</td>\n",
       "      <td>July 2016</td>\n",
       "    </tr>\n",
       "    <tr>\n",
       "      <th>2016-08-01</th>\n",
       "      <td>2016</td>\n",
       "      <td>August</td>\n",
       "      <td>3238</td>\n",
       "      <td>103.478999</td>\n",
       "      <td>3.852069</td>\n",
       "      <td>August 2016</td>\n",
       "    </tr>\n",
       "    <tr>\n",
       "      <th>2016-09-01</th>\n",
       "      <td>2016</td>\n",
       "      <td>September</td>\n",
       "      <td>3372</td>\n",
       "      <td>127.483986</td>\n",
       "      <td>3.523725</td>\n",
       "      <td>September 2016</td>\n",
       "    </tr>\n",
       "    <tr>\n",
       "      <th>2016-10-01</th>\n",
       "      <td>2016</td>\n",
       "      <td>October</td>\n",
       "      <td>3689</td>\n",
       "      <td>113.162646</td>\n",
       "      <td>3.197615</td>\n",
       "      <td>October 2016</td>\n",
       "    </tr>\n",
       "    <tr>\n",
       "      <th>2016-11-01</th>\n",
       "      <td>2016</td>\n",
       "      <td>November</td>\n",
       "      <td>2818</td>\n",
       "      <td>47.845280</td>\n",
       "      <td>3.143009</td>\n",
       "      <td>November 2016</td>\n",
       "    </tr>\n",
       "    <tr>\n",
       "      <th>2016-12-01</th>\n",
       "      <td>2016</td>\n",
       "      <td>December</td>\n",
       "      <td>2462</td>\n",
       "      <td>55.978067</td>\n",
       "      <td>3.092608</td>\n",
       "      <td>December 2016</td>\n",
       "    </tr>\n",
       "    <tr>\n",
       "      <th>2017-01-01</th>\n",
       "      <td>2017</td>\n",
       "      <td>January</td>\n",
       "      <td>2431</td>\n",
       "      <td>31.170300</td>\n",
       "      <td>2.919375</td>\n",
       "      <td>January 2017</td>\n",
       "    </tr>\n",
       "    <tr>\n",
       "      <th>2017-02-01</th>\n",
       "      <td>2017</td>\n",
       "      <td>February</td>\n",
       "      <td>2818</td>\n",
       "      <td>37.987580</td>\n",
       "      <td>3.100426</td>\n",
       "      <td>February 2017</td>\n",
       "    </tr>\n",
       "    <tr>\n",
       "      <th>2017-03-01</th>\n",
       "      <td>2017</td>\n",
       "      <td>March</td>\n",
       "      <td>3298</td>\n",
       "      <td>64.004851</td>\n",
       "      <td>3.496361</td>\n",
       "      <td>March 2017</td>\n",
       "    </tr>\n",
       "    <tr>\n",
       "      <th>2017-04-01</th>\n",
       "      <td>2017</td>\n",
       "      <td>April</td>\n",
       "      <td>3198</td>\n",
       "      <td>84.911507</td>\n",
       "      <td>3.521576</td>\n",
       "      <td>April 2017</td>\n",
       "    </tr>\n",
       "    <tr>\n",
       "      <th>2017-05-01</th>\n",
       "      <td>2017</td>\n",
       "      <td>May</td>\n",
       "      <td>3551</td>\n",
       "      <td>97.248662</td>\n",
       "      <td>3.370600</td>\n",
       "      <td>May 2017</td>\n",
       "    </tr>\n",
       "    <tr>\n",
       "      <th>2017-06-01</th>\n",
       "      <td>2017</td>\n",
       "      <td>June</td>\n",
       "      <td>3208</td>\n",
       "      <td>118.794576</td>\n",
       "      <td>3.657731</td>\n",
       "      <td>June 2017</td>\n",
       "    </tr>\n",
       "    <tr>\n",
       "      <th>2017-07-01</th>\n",
       "      <td>2017</td>\n",
       "      <td>July</td>\n",
       "      <td>3329</td>\n",
       "      <td>140.066086</td>\n",
       "      <td>3.745569</td>\n",
       "      <td>July 2017</td>\n",
       "    </tr>\n",
       "    <tr>\n",
       "      <th>2017-08-01</th>\n",
       "      <td>2017</td>\n",
       "      <td>August</td>\n",
       "      <td>3109</td>\n",
       "      <td>127.941782</td>\n",
       "      <td>3.901544</td>\n",
       "      <td>August 2017</td>\n",
       "    </tr>\n",
       "  </tbody>\n",
       "</table>\n",
       "</div>"
      ],
      "text/plain": [
       "              arrival_date_year arrival_date_month  bookings  avg_lead_time  \\\n",
       "arrival_date                                                                  \n",
       "2015-09-01                 2015          September      3020      75.623841   \n",
       "2015-10-01                 2015            October      3225      65.189457   \n",
       "2015-11-01                 2015           November      1854      39.799892   \n",
       "2015-12-01                 2015           December      1947      38.725732   \n",
       "2016-01-01                 2016            January      1691      20.138380   \n",
       "2016-02-01                 2016           February      2554      26.624511   \n",
       "2016-03-01                 2016              March      3347      42.221990   \n",
       "2016-04-01                 2016              April      3367      65.636769   \n",
       "2016-05-01                 2016                May      3563      94.985125   \n",
       "2016-06-01                 2016               June      3196     102.246245   \n",
       "2016-07-01                 2016               July      3073     109.637488   \n",
       "2016-08-01                 2016             August      3238     103.478999   \n",
       "2016-09-01                 2016          September      3372     127.483986   \n",
       "2016-10-01                 2016            October      3689     113.162646   \n",
       "2016-11-01                 2016           November      2818      47.845280   \n",
       "2016-12-01                 2016           December      2462      55.978067   \n",
       "2017-01-01                 2017            January      2431      31.170300   \n",
       "2017-02-01                 2017           February      2818      37.987580   \n",
       "2017-03-01                 2017              March      3298      64.004851   \n",
       "2017-04-01                 2017              April      3198      84.911507   \n",
       "2017-05-01                 2017                May      3551      97.248662   \n",
       "2017-06-01                 2017               June      3208     118.794576   \n",
       "2017-07-01                 2017               July      3329     140.066086   \n",
       "2017-08-01                 2017             August      3109     127.941782   \n",
       "\n",
       "              avg_stay arrival_date_month_year  \n",
       "arrival_date                                    \n",
       "2015-09-01    3.653974          September 2015  \n",
       "2015-10-01    3.104496            October 2015  \n",
       "2015-11-01    3.170442           November 2015  \n",
       "2015-12-01    2.928608           December 2015  \n",
       "2016-01-01    2.504435            January 2016  \n",
       "2016-02-01    2.760767           February 2016  \n",
       "2016-03-01    3.071407              March 2016  \n",
       "2016-04-01    3.128304              April 2016  \n",
       "2016-05-01    3.266629                May 2016  \n",
       "2016-06-01    3.560388               June 2016  \n",
       "2016-07-01    3.882200               July 2016  \n",
       "2016-08-01    3.852069             August 2016  \n",
       "2016-09-01    3.523725          September 2016  \n",
       "2016-10-01    3.197615            October 2016  \n",
       "2016-11-01    3.143009           November 2016  \n",
       "2016-12-01    3.092608           December 2016  \n",
       "2017-01-01    2.919375            January 2017  \n",
       "2017-02-01    3.100426           February 2017  \n",
       "2017-03-01    3.496361              March 2017  \n",
       "2017-04-01    3.521576              April 2017  \n",
       "2017-05-01    3.370600                May 2017  \n",
       "2017-06-01    3.657731               June 2017  \n",
       "2017-07-01    3.745569               July 2017  \n",
       "2017-08-01    3.901544             August 2017  "
      ]
     },
     "execution_count": 11,
     "metadata": {},
     "output_type": "execute_result"
    }
   ],
   "source": [
    "# Creating a dataset of bookings per month\n",
    "\n",
    "month_order = ['January', 'February', 'March', 'April', 'May', 'June',\n",
    "               'July', 'August', 'September', 'October', 'November', 'December']\n",
    "num_bookings = df.groupby(['arrival_date_year', 'arrival_date_month']).count()[['hotel']]\n",
    "averages = df.groupby(['arrival_date_year', 'arrival_date_month']).mean().loc[:,['lead_time', 'length_of_stay']]\n",
    "bookings_per_month = num_bookings.join(averages).rename(columns={\"hotel\":\"bookings\",\n",
    "                                                                  \"lead_time\":\"avg_lead_time\",\n",
    "                                                                  \"length_of_stay\":\"avg_stay\"}).reset_index()\n",
    "for i in np.arange(len(bookings_per_month)):\n",
    "    month = str(bookings_per_month['arrival_date_month'][i])\n",
    "    year = str(bookings_per_month['arrival_date_year'][i])\n",
    "    date_string = ' '.join([month, year])\n",
    "    bookings_per_month.loc[i, 'arrival_date_month_year'] = date_string\n",
    "    bookings_per_month.loc[i, 'arrival_date'] = datetime.strptime(date_string, \"%B %Y\")\n",
    "\n",
    "bookings_per_month.set_index('arrival_date', inplace=True)\n",
    "bookings_per_month.sort_values(by='arrival_date', inplace=True)\n",
    "bookings_per_month"
   ]
  },
  {
   "cell_type": "markdown",
   "metadata": {},
   "source": [
    "Taking a look at the number of bookings per month over time below, there appears to be a consistent seasonal trend where business drops off during the months of November, December, and January but picks up throughout the rest of the year."
   ]
  },
  {
   "cell_type": "code",
   "execution_count": 12,
   "metadata": {},
   "outputs": [
    {
     "data": {
      "image/png": "[encoded data removed]",
      "text/plain": [
       "<Figure size 900x360 with 1 Axes>"
      ]
     },
     "metadata": {
      "needs_background": "light"
     },
     "output_type": "display_data"
    }
   ],
   "source": [
    "# How many bookings are there over time?\n",
    "\n",
    "b = sns.relplot(x='arrival_date', y=\"bookings\", data=bookings_per_month, kind='line', aspect=5/2)\n",
    "b.set(xticks=bookings_per_month.index)\n",
    "b.set_xticklabels(labels=bookings_per_month['arrival_date_month_year'], rotation=60)\n",
    "plt.title('Total bookings per month each year')\n",
    "plt.show(b)"
   ]
  },
  {
   "cell_type": "markdown",
   "metadata": {},
   "source": [
    "The plot below also illustrates the seasonal fluctuations in the amount of bookings. May and October seem to be the most popular months at these hotels. As mentioned above, the winter season is the least popular time of year to book a reservation."
   ]
  },
  {
   "cell_type": "code",
   "execution_count": 13,
   "metadata": {},
   "outputs": [
    {
     "data": {
      "image/png": "[encoded data removed]",
      "text/plain": [
       "<Figure size 720x360 with 1 Axes>"
      ]
     },
     "metadata": {
      "needs_background": "light"
     },
     "output_type": "display_data"
    }
   ],
   "source": [
    "# How many bookings are there per month?\n",
    "\n",
    "sns.catplot(x='arrival_date_month', data=df, order=month_order, kind='count', aspect=2/1)\n",
    "plt.title('Total bookings per month')\n",
    "plt.show()"
   ]
  },
  {
   "cell_type": "markdown",
   "metadata": {},
   "source": [
    "#### Length of Stay"
   ]
  },
  {
   "cell_type": "markdown",
   "metadata": {},
   "source": [
    "A large majority of the bookings are for less than one week."
   ]
  },
  {
   "cell_type": "code",
   "execution_count": 14,
   "metadata": {},
   "outputs": [
    {
     "data": {
      "image/png": "[encoded data removed]",
      "text/plain": [
       "<Figure size 720x360 with 1 Axes>"
      ]
     },
     "metadata": {
      "needs_background": "light"
     },
     "output_type": "display_data"
    },
    {
     "data": {
      "text/plain": [
       "count    71357.000000\n",
       "mean         3.352453\n",
       "std          2.544722\n",
       "min          0.000000\n",
       "25%          2.000000\n",
       "50%          3.000000\n",
       "75%          4.000000\n",
       "max         69.000000\n",
       "Name: length_of_stay, dtype: float64"
      ]
     },
     "execution_count": 14,
     "metadata": {},
     "output_type": "execute_result"
    }
   ],
   "source": [
    "# How long do people stay?\n",
    "\n",
    "plt.figure(figsize=(10,5))\n",
    "sns.histplot(x='length_of_stay', data=df)\n",
    "plt.title('Distribution of lengths of stay')\n",
    "plt.show()\n",
    "df.length_of_stay.describe()"
   ]
  },
  {
   "cell_type": "code",
   "execution_count": 15,
   "metadata": {
    "scrolled": true
   },
   "outputs": [
    {
     "data": {
      "image/png": "[encoded data removed]",
      "text/plain": [
       "<Figure size 720x360 with 1 Axes>"
      ]
     },
     "metadata": {
      "needs_background": "light"
     },
     "output_type": "display_data"
    },
    {
     "data": {
      "text/html": [
       "<div>\n",
       "<style scoped>\n",
       "    .dataframe tbody tr th:only-of-type {\n",
       "        vertical-align: middle;\n",
       "    }\n",
       "\n",
       "    .dataframe tbody tr th {\n",
       "        vertical-align: top;\n",
       "    }\n",
       "\n",
       "    .dataframe thead tr th {\n",
       "        text-align: left;\n",
       "    }\n",
       "\n",
       "    .dataframe thead tr:last-of-type th {\n",
       "        text-align: right;\n",
       "    }\n",
       "</style>\n",
       "<table border=\"1\" class=\"dataframe\">\n",
       "  <thead>\n",
       "    <tr>\n",
       "      <th></th>\n",
       "      <th colspan=\"2\" halign=\"left\">length_of_stay</th>\n",
       "    </tr>\n",
       "    <tr>\n",
       "      <th></th>\n",
       "      <th>mean</th>\n",
       "      <th>median</th>\n",
       "    </tr>\n",
       "    <tr>\n",
       "      <th>arrival_date_month</th>\n",
       "      <th></th>\n",
       "      <th></th>\n",
       "    </tr>\n",
       "  </thead>\n",
       "  <tbody>\n",
       "    <tr>\n",
       "      <th>April</th>\n",
       "      <td>3.319878</td>\n",
       "      <td>3.0</td>\n",
       "    </tr>\n",
       "    <tr>\n",
       "      <th>August</th>\n",
       "      <td>3.876300</td>\n",
       "      <td>3.0</td>\n",
       "    </tr>\n",
       "    <tr>\n",
       "      <th>December</th>\n",
       "      <td>3.020186</td>\n",
       "      <td>3.0</td>\n",
       "    </tr>\n",
       "    <tr>\n",
       "      <th>February</th>\n",
       "      <td>2.938943</td>\n",
       "      <td>2.0</td>\n",
       "    </tr>\n",
       "    <tr>\n",
       "      <th>January</th>\n",
       "      <td>2.749151</td>\n",
       "      <td>2.0</td>\n",
       "    </tr>\n",
       "    <tr>\n",
       "      <th>July</th>\n",
       "      <td>3.811153</td>\n",
       "      <td>3.0</td>\n",
       "    </tr>\n",
       "    <tr>\n",
       "      <th>June</th>\n",
       "      <td>3.609151</td>\n",
       "      <td>3.0</td>\n",
       "    </tr>\n",
       "    <tr>\n",
       "      <th>March</th>\n",
       "      <td>3.282318</td>\n",
       "      <td>3.0</td>\n",
       "    </tr>\n",
       "    <tr>\n",
       "      <th>May</th>\n",
       "      <td>3.318527</td>\n",
       "      <td>3.0</td>\n",
       "    </tr>\n",
       "    <tr>\n",
       "      <th>November</th>\n",
       "      <td>3.153896</td>\n",
       "      <td>3.0</td>\n",
       "    </tr>\n",
       "    <tr>\n",
       "      <th>October</th>\n",
       "      <td>3.154180</td>\n",
       "      <td>3.0</td>\n",
       "    </tr>\n",
       "    <tr>\n",
       "      <th>September</th>\n",
       "      <td>3.585263</td>\n",
       "      <td>3.0</td>\n",
       "    </tr>\n",
       "  </tbody>\n",
       "</table>\n",
       "</div>"
      ],
      "text/plain": [
       "                   length_of_stay       \n",
       "                             mean median\n",
       "arrival_date_month                      \n",
       "April                    3.319878    3.0\n",
       "August                   3.876300    3.0\n",
       "December                 3.020186    3.0\n",
       "February                 2.938943    2.0\n",
       "January                  2.749151    2.0\n",
       "July                     3.811153    3.0\n",
       "June                     3.609151    3.0\n",
       "March                    3.282318    3.0\n",
       "May                      3.318527    3.0\n",
       "November                 3.153896    3.0\n",
       "October                  3.154180    3.0\n",
       "September                3.585263    3.0"
      ]
     },
     "execution_count": 15,
     "metadata": {},
     "output_type": "execute_result"
    }
   ],
   "source": [
    "# How long are the average lengths of stay per month?\n",
    "\n",
    "month_order=['January', 'February', 'March', 'April', 'May', 'June',\n",
    "             'July', 'August', 'September', 'October', 'November', 'December']\n",
    "\n",
    "sns.catplot(x='arrival_date_month', y='length_of_stay', data=df,\n",
    "            order=month_order, kind='box', showfliers=False, aspect=2/1)\n",
    "plt.title('Average lengths of stay per month')\n",
    "plt.show()\n",
    "df.groupby('arrival_date_month').agg(['mean', 'median'])[['length_of_stay']]"
   ]
  },
  {
   "cell_type": "markdown",
   "metadata": {},
   "source": [
    "#### Time Booked in Advance"
   ]
  },
  {
   "cell_type": "code",
   "execution_count": 16,
   "metadata": {},
   "outputs": [
    {
     "data": {
      "image/png": "[encoded data removed]",
      "text/plain": [
       "<Figure size 720x360 with 1 Axes>"
      ]
     },
     "metadata": {
      "needs_background": "light"
     },
     "output_type": "display_data"
    },
    {
     "data": {
      "text/plain": [
       "count    71358.000000\n",
       "mean        80.793758\n",
       "std         91.926895\n",
       "min          0.000000\n",
       "25%          9.000000\n",
       "50%         46.000000\n",
       "75%        126.000000\n",
       "max        709.000000\n",
       "Name: lead_time, dtype: float64"
      ]
     },
     "execution_count": 16,
     "metadata": {},
     "output_type": "execute_result"
    }
   ],
   "source": [
    "# How long do people book in advance?\n",
    "\n",
    "plt.figure(figsize=(10,5))\n",
    "sns.histplot(x='lead_time', data=df)\n",
    "plt.title('Distribution of time booked in advance')\n",
    "plt.show()\n",
    "df.lead_time.describe()"
   ]
  },
  {
   "cell_type": "markdown",
   "metadata": {},
   "source": [
    "More people book farther in advance for the summer months than they do for the rest of the year."
   ]
  },
  {
   "cell_type": "code",
   "execution_count": 17,
   "metadata": {},
   "outputs": [
    {
     "data": {
      "image/png": "[encoded data removed]",
      "text/plain": [
       "<Figure size 720x360 with 1 Axes>"
      ]
     },
     "metadata": {
      "needs_background": "light"
     },
     "output_type": "display_data"
    },
    {
     "data": {
      "text/html": [
       "<div>\n",
       "<style scoped>\n",
       "    .dataframe tbody tr th:only-of-type {\n",
       "        vertical-align: middle;\n",
       "    }\n",
       "\n",
       "    .dataframe tbody tr th {\n",
       "        vertical-align: top;\n",
       "    }\n",
       "\n",
       "    .dataframe thead tr th {\n",
       "        text-align: left;\n",
       "    }\n",
       "\n",
       "    .dataframe thead tr:last-of-type th {\n",
       "        text-align: right;\n",
       "    }\n",
       "</style>\n",
       "<table border=\"1\" class=\"dataframe\">\n",
       "  <thead>\n",
       "    <tr>\n",
       "      <th></th>\n",
       "      <th colspan=\"2\" halign=\"left\">lead_time</th>\n",
       "    </tr>\n",
       "    <tr>\n",
       "      <th></th>\n",
       "      <th>mean</th>\n",
       "      <th>median</th>\n",
       "    </tr>\n",
       "    <tr>\n",
       "      <th>arrival_date_month</th>\n",
       "      <th></th>\n",
       "      <th></th>\n",
       "    </tr>\n",
       "  </thead>\n",
       "  <tbody>\n",
       "    <tr>\n",
       "      <th>January</th>\n",
       "      <td>26.644590</td>\n",
       "      <td>8</td>\n",
       "    </tr>\n",
       "    <tr>\n",
       "      <th>February</th>\n",
       "      <td>32.585257</td>\n",
       "      <td>14</td>\n",
       "    </tr>\n",
       "    <tr>\n",
       "      <th>March</th>\n",
       "      <td>53.033108</td>\n",
       "      <td>34</td>\n",
       "    </tr>\n",
       "    <tr>\n",
       "      <th>April</th>\n",
       "      <td>75.026047</td>\n",
       "      <td>63</td>\n",
       "    </tr>\n",
       "    <tr>\n",
       "      <th>May</th>\n",
       "      <td>96.114985</td>\n",
       "      <td>78</td>\n",
       "    </tr>\n",
       "    <tr>\n",
       "      <th>June</th>\n",
       "      <td>110.535915</td>\n",
       "      <td>94</td>\n",
       "    </tr>\n",
       "    <tr>\n",
       "      <th>July</th>\n",
       "      <td>125.460169</td>\n",
       "      <td>121</td>\n",
       "    </tr>\n",
       "    <tr>\n",
       "      <th>August</th>\n",
       "      <td>115.461793</td>\n",
       "      <td>107</td>\n",
       "    </tr>\n",
       "    <tr>\n",
       "      <th>September</th>\n",
       "      <td>102.981852</td>\n",
       "      <td>60</td>\n",
       "    </tr>\n",
       "    <tr>\n",
       "      <th>October</th>\n",
       "      <td>90.785797</td>\n",
       "      <td>44</td>\n",
       "    </tr>\n",
       "    <tr>\n",
       "      <th>November</th>\n",
       "      <td>44.652611</td>\n",
       "      <td>28</td>\n",
       "    </tr>\n",
       "    <tr>\n",
       "      <th>December</th>\n",
       "      <td>48.359492</td>\n",
       "      <td>23</td>\n",
       "    </tr>\n",
       "  </tbody>\n",
       "</table>\n",
       "</div>"
      ],
      "text/plain": [
       "                     lead_time       \n",
       "                          mean median\n",
       "arrival_date_month                   \n",
       "January              26.644590      8\n",
       "February             32.585257     14\n",
       "March                53.033108     34\n",
       "April                75.026047     63\n",
       "May                  96.114985     78\n",
       "June                110.535915     94\n",
       "July                125.460169    121\n",
       "August              115.461793    107\n",
       "September           102.981852     60\n",
       "October              90.785797     44\n",
       "November             44.652611     28\n",
       "December             48.359492     23"
      ]
     },
     "execution_count": 17,
     "metadata": {},
     "output_type": "execute_result"
    }
   ],
   "source": [
    "# How long do people book in advance per month?\n",
    "\n",
    "sns.catplot(x='arrival_date_month', y='lead_time', data=df,\n",
    "            order=month_order, kind='box', showfliers=False, aspect=2/1)\n",
    "plt.title('Average time booked in advance per month')\n",
    "plt.show()\n",
    "df.groupby('arrival_date_month').agg(['mean', 'median'])[['lead_time']].reindex(index=month_order)"
   ]
  },
  {
   "cell_type": "markdown",
   "metadata": {},
   "source": [
    "#### Feature Relationships"
   ]
  },
  {
   "cell_type": "markdown",
   "metadata": {},
   "source": [
    "The average length of stay and the average time booked in advance per month is highly correlated. The total number of bookings is also moderately correlated to the average length of stay and the average time booked in advance."
   ]
  },
  {
   "cell_type": "code",
   "execution_count": 18,
   "metadata": {},
   "outputs": [
    {
     "data": {
      "text/html": [
       "<div>\n",
       "<style scoped>\n",
       "    .dataframe tbody tr th:only-of-type {\n",
       "        vertical-align: middle;\n",
       "    }\n",
       "\n",
       "    .dataframe tbody tr th {\n",
       "        vertical-align: top;\n",
       "    }\n",
       "\n",
       "    .dataframe thead th {\n",
       "        text-align: right;\n",
       "    }\n",
       "</style>\n",
       "<table border=\"1\" class=\"dataframe\">\n",
       "  <thead>\n",
       "    <tr style=\"text-align: right;\">\n",
       "      <th></th>\n",
       "      <th>bookings</th>\n",
       "      <th>avg_stay</th>\n",
       "      <th>avg_lead_time</th>\n",
       "    </tr>\n",
       "  </thead>\n",
       "  <tbody>\n",
       "    <tr>\n",
       "      <th>bookings</th>\n",
       "      <td>1.000000</td>\n",
       "      <td>0.578411</td>\n",
       "      <td>0.698957</td>\n",
       "    </tr>\n",
       "    <tr>\n",
       "      <th>avg_stay</th>\n",
       "      <td>0.578411</td>\n",
       "      <td>1.000000</td>\n",
       "      <td>0.838584</td>\n",
       "    </tr>\n",
       "    <tr>\n",
       "      <th>avg_lead_time</th>\n",
       "      <td>0.698957</td>\n",
       "      <td>0.838584</td>\n",
       "      <td>1.000000</td>\n",
       "    </tr>\n",
       "  </tbody>\n",
       "</table>\n",
       "</div>"
      ],
      "text/plain": [
       "               bookings  avg_stay  avg_lead_time\n",
       "bookings       1.000000  0.578411       0.698957\n",
       "avg_stay       0.578411  1.000000       0.838584\n",
       "avg_lead_time  0.698957  0.838584       1.000000"
      ]
     },
     "execution_count": 18,
     "metadata": {},
     "output_type": "execute_result"
    }
   ],
   "source": [
    "bookings_per_month[['bookings', 'avg_stay', 'avg_lead_time']].reset_index(drop=True).corr()"
   ]
  },
  {
   "cell_type": "markdown",
   "metadata": {},
   "source": [
    "## Conclusion"
   ]
  },
  {
   "cell_type": "markdown",
   "metadata": {},
   "source": [
    "Certain times of the year seem to be more desirable for people to book a stay at these hotels. The total number of bookings per month show that there is a steady rate of business during the spring, summer, and fall while the winter is the least busy time of year. This might be explained by the fact that November, December, and January are times of the year where many people visit family for the holidays or simply because it is often colder than it is during other months of the year. People also tend to book farther out in advance during the busier months. Intuitively, it makes sense that the average length of stay and average time booked in advance are highly correlated because if people are bookings longer stays at the hotels, there will be less flexibility in availability and people will have to adjust by planning ahead sooner. Furthermore, the fact that the total number of bookings per month is correlated to these two metrics suggests that more people decide to stay longer during busier times of the year and are therefore booking farther in advance. Based on the number of bookings, lengths of stay, and time booked in advance, it is clear that the spring, summer, and fall attract the most guests while the winter is the least desirable time of the year for people to book a stay."
   ]
  }
 ],
 "metadata": {
  "kernelspec": {
   "display_name": "Python 3",
   "language": "python",
   "name": "python3"
  },
  "language_info": {
   "codemirror_mode": {
    "name": "ipython",
    "version": 3
   },
   "file_extension": ".py",
   "mimetype": "text/x-python",
   "name": "python",
   "nbconvert_exporter": "python",
   "pygments_lexer": "ipython3",
   "version": "3.7.6"
  }
 },
 "nbformat": 4,
 "nbformat_minor": 4
}

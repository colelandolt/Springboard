{
 "cells": [
  {
   "cell_type": "markdown",
   "metadata": {},
   "source": [
    "# Genre Classification - Data Collection\n",
    "\n",
    "This project aims to predict the genre of songs given their audio features and lyrical content. Audio features, as well as other track-wise information, are obtained from [Spotify](spotify.com). Since Spotify API doesn't offer genre information, I turned to [The Sounds of Spotify](https://open.spotify.com/user/thesoundsofspotify) to generate the dataset of songs and their genre labels that will be used to train the predictive models. More about this music genre project can be found [here](https://artists.spotify.com/blog/how-spotify-discovers-the-genres-of-tomorrow). Lyrics, on the other hand, are obtained from [Genius](genius.com)"
   ]
  },
  {
   "cell_type": "markdown",
   "metadata": {},
   "source": [
    "## Contents\n",
    "* [Imports](#Imports)\n",
    "* [API Connections](#API)\n",
    "* [Helper Functions](#Helpers)\n",
    "* [Data Download](#DataDownload)\n",
    "  * [Pop](#Pop)\n",
    "  * [R&B](#R&B)\n",
    "  * [Hip Hop](#HipHop)\n",
    "  * [Latin](#Latin)\n",
    "  * [Reggae](#Reggae)\n",
    "  * [EDM](#EDM)\n",
    "  * [Indie](#Indie)\n",
    "  * [Rock](#Rock)\n",
    "  * [Metal](#Metal)\n",
    "  * [Country](#Country)\n",
    "  * [Jazz](#Jazz)\n",
    "  * [Classical](#Classical)\n",
    "  * [Concatenation](#Concatenation)\n",
    "  * [Collect Lyrics](#Lyrics)\n",
    "* [Data Definitions](#DataDefinitions)"
   ]
  },
  {
   "cell_type": "markdown",
   "metadata": {},
   "source": [
    "### Imports<a id='Imports'></a>\n",
    "\n",
    "Importing required packages"
   ]
  },
  {
   "cell_type": "code",
   "execution_count": null,
   "metadata": {},
   "outputs": [],
   "source": [
    "import os\n",
    "import re\n",
    "import math\n",
    "from datetime import datetime, timedelta, date\n",
    "import numpy as np\n",
    "import pandas as pd\n",
    "import matplotlib.pyplot as plt\n",
    "import seaborn as sns\n",
    "import requests\n",
    "from bs4 import BeautifulSoup\n",
    "from spotify_client import *\n",
    "import lyricsgenius"
   ]
  },
  {
   "cell_type": "markdown",
   "metadata": {},
   "source": [
    "### API Connections<a id='API'></a>"
   ]
  },
  {
   "cell_type": "markdown",
   "metadata": {},
   "source": [
    "Connecting to Spotify API, which will be used to fetch each of the songs from the Sounds of Spotify playlists as well as their audio features."
   ]
  },
  {
   "cell_type": "code",
   "execution_count": null,
   "metadata": {},
   "outputs": [],
   "source": [
    "sp_client_id = '665fe23a8c264e8d969f97d1666c3c49'\n",
    "sp_client_secret = 'cd9f621c0b904a40b55aae8092ab0bad'\n",
    "sp = SpotifyAPI(sp_client_id, sp_client_secret)"
   ]
  },
  {
   "cell_type": "markdown",
   "metadata": {},
   "source": [
    "Connecting to Genius API, which will be used to fetch each songs' lyrics."
   ]
  },
  {
   "cell_type": "code",
   "execution_count": null,
   "metadata": {},
   "outputs": [],
   "source": [
    "ge_client_id = 'P3-oej0e3s4DOetE6IJOwCtuS61xFT1Q04gtF9DrDU8RudsfBZF01BD0Z3NdrI-4'\n",
    "ge_client_secret = 'QBj5U83_bkukCNgEBv26m9xHxzL2mZhFaJn9J-2vLK2fLsA59J7WrORn5171xbn21Otin1U3lIJNHV67raqRiQ'\n",
    "gen = lyricsgenius.Genius('BNXZ6rt8-NIcKLnGurr1YOkhWi5WVU5-fWktELHm7xpp-lJY2jJ-uLUwqGs9wZ3L')"
   ]
  },
  {
   "cell_type": "markdown",
   "metadata": {},
   "source": [
    "### Helper Functions<a id='Helpers'></a>\n",
    "\n",
    "Functions to collect playlist tracks, their audio features, and their lyrics for a major genre from each subgenre's playlist"
   ]
  },
  {
   "cell_type": "code",
   "execution_count": null,
   "metadata": {},
   "outputs": [],
   "source": [
    "def get_playlist_id(subgenre):\n",
    "    '''\n",
    "    Returns the ID for a given subgenre's Spotify playlist\n",
    "    '''\n",
    "    playlist_id = str()\n",
    "    query = 'The Sound of ' + subgenre\n",
    "    playlists = sp.search(query, search_type='playlist')['playlists']\n",
    "    for playlist in playlists['items']:\n",
    "        if query.lower() == playlist['name'].lower():\n",
    "            playlist_id = playlist['id']\n",
    "            break\n",
    "    if (subgenre == 'viral pop'): playlist_id = '0tAsyMQoefUL8DWNn6xkAk'\n",
    "    if (subgenre == 'classic country pop'): playlist_id = '6lOCvTH6vW5Jc7oyryNom4'\n",
    "    if (subgenre == 'neoclassicism'): playlist_id = '1qJiG40Pdhyt3Mxslpk41M'\n",
    "    return playlist_id\n",
    "\n",
    "def get_track_features(track_id):\n",
    "    ''' \n",
    "    Returns audio features of a given track\n",
    "    '''\n",
    "    audio_features = {}\n",
    "    try:\n",
    "        audio_features = sp.get_audio_features(track_id)\n",
    "        features = [audio_features['danceability'], audio_features['energy'],\n",
    "                  audio_features['loudness'], audio_features['speechiness'],\n",
    "                  audio_features['acousticness'], audio_features['instrumentalness'],\n",
    "                  audio_features['liveness'], audio_features['valence'],\n",
    "                  audio_features['tempo'], audio_features['mode']]\n",
    "        return features\n",
    "    except len(audio_features) < 1:\n",
    "        print('Timeout occured')\n",
    "        return None\n",
    "    \n",
    "    return features\n",
    "\n",
    "def get_tracks(genre, subgenre):\n",
    "    ''' \n",
    "    Returns playlist songs for each subgenre of a major genre\n",
    "    '''\n",
    "    df = pd.DataFrame(columns=cols)\n",
    "    playlist_id = get_playlist_id(subgenre)\n",
    "    playlist_tracks = sp.get_playlist_tracks(playlist_id)['items']\n",
    "    for i in np.arange(0, len(playlist_tracks)):\n",
    "        track_id = playlist_tracks[i]['track']['id']\n",
    "        track = playlist_tracks[i]['track']['name']\n",
    "        artist = playlist_tracks[i]['track']['artists'][0]['name']\n",
    "        album = playlist_tracks[i]['track']['album']['name']\n",
    "        release_date = playlist_tracks[i]['track']['album']['release_date']\n",
    "        duration_ms = playlist_tracks[i]['track']['duration_ms']\n",
    "        popularity = playlist_tracks[i]['track']['popularity']\n",
    "        attributes = [track_id, track, artist, album, release_date, genre, subgenre,\n",
    "                      pd.to_numeric(duration_ms), pd.to_numeric(popularity)]\n",
    "        features = get_track_features(track_id)\n",
    "        if (features is None):\n",
    "            features = get_track_features(track_id)\n",
    "        df = df.append(pd.Series(attributes+features, index=cols, name=i))\n",
    "    return df\n",
    "\n",
    "def get_track_lyrics(df):\n",
    "    ''' \n",
    "    Returns lyrics of a song using Genius API\n",
    "    '''\n",
    "    for i in np.arange(0,len(df),1):\n",
    "        # cleaning the track name for our search query\n",
    "        track_name = df.loc[i, 'track'].split(\"-\", 1)[0].split(\"(\", 1)[0]\n",
    "        artist = df.loc[i, 'artist']\n",
    "        print(track_name, artist)\n",
    "        # skipping the track if it's instrumental\n",
    "        if (df.loc[i, 'instrumentalness'] > 0.5):\n",
    "            df.loc[i, 'lyrics_raw'] = 'Instrumental'\n",
    "            continue\n",
    "        try:\n",
    "            # making a GET request through our API endpoint to fetch the track's lyrics\n",
    "            song = gen.search_song(track_name, artist)\n",
    "            df.loc[i, 'lyrics_raw'] = song.lyrics\n",
    "        except:\n",
    "            df.loc[i, 'lyrics_raw'] = None\n",
    "            \n",
    "    return df"
   ]
  },
  {
   "cell_type": "markdown",
   "metadata": {},
   "source": [
    "### Data Download<a id='DataDownload'></a>\n",
    "\n",
    "Collecting the audio features and lyrics of songs from each subgenre within each major genre (retrieved from [here](http://everynoise.com/everynoise1d.cgi?scope=all)). There are twelve subgenre playlists per major genre including the major genre itself, and each playlist contains one hundred songs."
   ]
  },
  {
   "cell_type": "code",
   "execution_count": null,
   "metadata": {},
   "outputs": [],
   "source": [
    "cols = ['track_id', 'track', 'artist', 'album', 'release_date', 'genre', 'subgenre',\n",
    "        'duration_ms', 'popularity', 'danceability', 'energy', 'loudness', 'speechiness',\n",
    "        'acousticness', 'instrumentalness', 'liveness', 'valence', 'tempo', 'mode']\n",
    "df = pd.DataFrame(columns=cols)"
   ]
  },
  {
   "cell_type": "markdown",
   "metadata": {},
   "source": [
    "#### Pop<a id='Pop'></a>"
   ]
  },
  {
   "cell_type": "code",
   "execution_count": null,
   "metadata": {},
   "outputs": [],
   "source": [
    "pop = pd.DataFrame()\n",
    "pop_subgenres = ['pop', 'pop dance', 'dance pop', 'post-teen pop', 'electropop',\n",
    "                 'social media pop', 'viral pop', 'boy band', 'girl group',\n",
    "                 'indie cafe pop', 'tropical house', 'neo mellow']"
   ]
  },
  {
   "cell_type": "code",
   "execution_count": null,
   "metadata": {
    "scrolled": true
   },
   "outputs": [],
   "source": [
    "for sg in pop_subgenres:\n",
    "    pop = pop.append(get_tracks('pop', sg)).reset_index(drop=True)\n",
    "    \n",
    "pop.head()"
   ]
  },
  {
   "cell_type": "markdown",
   "metadata": {},
   "source": [
    "#### R&B<a id='R&B'></a>"
   ]
  },
  {
   "cell_type": "code",
   "execution_count": null,
   "metadata": {},
   "outputs": [],
   "source": [
    "rnb = pd.DataFrame()\n",
    "rnb_subgenres = ['r&b', 'urban contemporary', 'hip pop', 'neo soul',\n",
    "                 'new jack swing', 'new jack smooth', 'deep smooth r&b',\n",
    "                 'quiet storm', 'funk', 'soul', 'pop r&b', 'alternative r&b']"
   ]
  },
  {
   "cell_type": "code",
   "execution_count": null,
   "metadata": {},
   "outputs": [],
   "source": [
    "for sg in rnb_subgenres:\n",
    "    rnb = rnb.append(get_tracks('r&b', sg)).reset_index(drop=True)\n",
    "    \n",
    "rnb.head()"
   ]
  },
  {
   "cell_type": "markdown",
   "metadata": {},
   "source": [
    "#### Hip Hop<a id='HipHop'></a>"
   ]
  },
  {
   "cell_type": "code",
   "execution_count": null,
   "metadata": {},
   "outputs": [],
   "source": [
    "hiphop = pd.DataFrame()\n",
    "hiphop_subgenres = ['hip hop', 'rap', 'pop rap', 'trap', 'melodic rap',\n",
    "                    'alternative hip hop', 'gangster rap', 'hardcore hip hop', 'boom bap',\n",
    "                    'conscious hip hop', 'underground hip hop', 'old school hip hop']"
   ]
  },
  {
   "cell_type": "code",
   "execution_count": null,
   "metadata": {},
   "outputs": [],
   "source": [
    "for sg in hiphop_subgenres:\n",
    "    hiphop = hiphop.append(get_tracks('hip hop', sg)).reset_index(drop=True)\n",
    "    \n",
    "hiphop.head()"
   ]
  },
  {
   "cell_type": "markdown",
   "metadata": {},
   "source": [
    "#### Latin<a id='Latin'></a>"
   ]
  },
  {
   "cell_type": "code",
   "execution_count": null,
   "metadata": {},
   "outputs": [],
   "source": [
    "latin = pd.DataFrame()\n",
    "latin_subgenres = ['latin', 'latin pop', 'tropical', 'reggaeton', 'reggaeton flow',\n",
    "                   'latin hip hop', 'trap latino', 'latin alternative',\n",
    "                   'bachata', 'ranchera', 'mariachi', 'salsa']"
   ]
  },
  {
   "cell_type": "code",
   "execution_count": null,
   "metadata": {},
   "outputs": [],
   "source": [
    "for sg in latin_subgenres:\n",
    "    latin = latin.append(get_tracks('latin', sg)).reset_index(drop=True)\n",
    "    \n",
    "latin.head()"
   ]
  },
  {
   "cell_type": "markdown",
   "metadata": {},
   "source": [
    "#### Reggae<a id='Reggae'></a>"
   ]
  },
  {
   "cell_type": "code",
   "execution_count": null,
   "metadata": {
    "scrolled": true
   },
   "outputs": [],
   "source": [
    "reggae = pd.DataFrame()\n",
    "reggae_subgenres = ['reggae', 'roots reggae', 'dub', 'ska', 'ska revival'\n",
    "                    'rock steady', 'lovers rock', 'modern reggae', 'early reggae',\n",
    "                    'reggae fusion', 'dancehall', 'old school dancehall']"
   ]
  },
  {
   "cell_type": "code",
   "execution_count": null,
   "metadata": {},
   "outputs": [],
   "source": [
    "for sg in reggae_subgenres:\n",
    "    reggae = reggae.append(get_tracks('reggae', sg)).reset_index(drop=True)\n",
    "    \n",
    "reggae.head()"
   ]
  },
  {
   "cell_type": "markdown",
   "metadata": {},
   "source": [
    "#### EDM<a id='EDM'></a>"
   ]
  },
  {
   "cell_type": "code",
   "execution_count": null,
   "metadata": {},
   "outputs": [],
   "source": [
    "edm = pd.DataFrame()\n",
    "edm_subgenres = ['edm', 'pop edm', 'electronic trap', 'dubstep', 'brostep',\n",
    "                 'electro house', 'progressive electro house', 'complextro',\n",
    "                 'house', 'progressive house', 'big room', 'deep house']"
   ]
  },
  {
   "cell_type": "code",
   "execution_count": null,
   "metadata": {},
   "outputs": [],
   "source": [
    "for sg in edm_subgenres:\n",
    "    edm = edm.append(get_tracks('edm', sg)).reset_index(drop=True)\n",
    "    \n",
    "edm.head()"
   ]
  },
  {
   "cell_type": "markdown",
   "metadata": {},
   "source": [
    "#### Indie<a id='Indie'></a>"
   ]
  },
  {
   "cell_type": "code",
   "execution_count": null,
   "metadata": {},
   "outputs": [],
   "source": [
    "indie = pd.DataFrame()\n",
    "indie_subgenres = ['indie pop', 'indie poptimism', 'lo-fi', 'stomp and holler',\n",
    "                   'indie folk', 'shimmer pop', 'indietronica', 'chillwave',\n",
    "                   'indie rock', 'modern rock', 'modern alternative rock', 'dance-punk']"
   ]
  },
  {
   "cell_type": "code",
   "execution_count": null,
   "metadata": {},
   "outputs": [],
   "source": [
    "for sg in indie_subgenres:\n",
    "    sg_songs = get_tracks('indie', sg)\n",
    "    indie = indie.append(sg_songs).reset_index(drop=True)\n",
    "    \n",
    "indie.head()"
   ]
  },
  {
   "cell_type": "markdown",
   "metadata": {},
   "source": [
    "#### Rock<a id='Rock'></a>"
   ]
  },
  {
   "cell_type": "code",
   "execution_count": null,
   "metadata": {},
   "outputs": [],
   "source": [
    "rock = pd.DataFrame()\n",
    "rock_subgenres = ['rock', 'classic rock', 'mellow gold', 'permanent wave',\n",
    "                  'album rock', 'soft rock', 'hard rock', 'art rock', 'pop rock',\n",
    "                  'heartland rock', 'alternative rock', 'psychedelic rock']"
   ]
  },
  {
   "cell_type": "code",
   "execution_count": null,
   "metadata": {},
   "outputs": [],
   "source": [
    "for sg in rock_subgenres:\n",
    "    rock = rock.append(get_tracks('rock', sg)).reset_index(drop=True)\n",
    "    \n",
    "rock.head()"
   ]
  },
  {
   "cell_type": "markdown",
   "metadata": {},
   "source": [
    "#### Metal<a id='Metal'></a>"
   ]
  },
  {
   "cell_type": "code",
   "execution_count": null,
   "metadata": {},
   "outputs": [],
   "source": [
    "metal = pd.DataFrame()\n",
    "metal_subgenres = ['metal', 'alternative metal', 'nu metal',\n",
    "                   'speed metal', 'death metal', 'glam metal',\n",
    "                   'black metal', 'power metal', 'neo classical metal'\n",
    "                   'thrash metal', 'old school thrash', 'crossover thrash']"
   ]
  },
  {
   "cell_type": "code",
   "execution_count": null,
   "metadata": {},
   "outputs": [],
   "source": [
    "for sg in metal_subgenres:\n",
    "    metal = metal.append(get_tracks('metal', sg)).reset_index(drop=True)\n",
    "    \n",
    "metal.head()"
   ]
  },
  {
   "cell_type": "markdown",
   "metadata": {},
   "source": [
    "#### Country<a id='Country'></a>"
   ]
  },
  {
   "cell_type": "code",
   "execution_count": null,
   "metadata": {},
   "outputs": [],
   "source": [
    "country = pd.DataFrame()\n",
    "country_subgenres = ['country', 'contemporary country', 'country pop', 'classic country pop',\n",
    "                     'country road', 'country rock', 'modern country rock', 'country dawn',\n",
    "                     'outlaw country', 'redneck', 'country rap', 'nashville sound']"
   ]
  },
  {
   "cell_type": "code",
   "execution_count": null,
   "metadata": {},
   "outputs": [],
   "source": [
    "for sg in country_subgenres:\n",
    "    country = country.append(get_tracks('country', sg)).reset_index(drop=True)\n",
    "    \n",
    "country.head()"
   ]
  },
  {
   "cell_type": "markdown",
   "metadata": {},
   "source": [
    "#### Jazz<a id='Jazz'></a>"
   ]
  },
  {
   "cell_type": "code",
   "execution_count": null,
   "metadata": {},
   "outputs": [],
   "source": [
    "jazz = pd.DataFrame()\n",
    "jazz_subgenres = ['jazz', 'cool jazz', 'soul jazz', 'bebop', 'hard bop',\n",
    "                  'contemporary post-bop', 'contemporary jazz', 'big band',\n",
    "                  'swing', 'jazz fusion', 'free jazz', 'avant-garde jazz']"
   ]
  },
  {
   "cell_type": "code",
   "execution_count": null,
   "metadata": {},
   "outputs": [],
   "source": [
    "for sg in jazz_subgenres:\n",
    "    jazz = jazz.append(get_tracks('jazz', sg)).reset_index(drop=True)\n",
    "    \n",
    "jazz.head()"
   ]
  },
  {
   "cell_type": "markdown",
   "metadata": {},
   "source": [
    "#### Classical<a id='Classical'></a>"
   ]
  },
  {
   "cell_type": "code",
   "execution_count": null,
   "metadata": {},
   "outputs": [],
   "source": [
    "classical = pd.DataFrame()\n",
    "classical_subgenres = ['classical', 'classical era', 'early music', 'renaissance', 'baroque',\n",
    "                       'late romantic era', 'post-romantic era', 'early modern classical',\n",
    "                       'avant-garde', 'neoclassicism', 'contemporary classical', 'impressionism']"
   ]
  },
  {
   "cell_type": "code",
   "execution_count": null,
   "metadata": {},
   "outputs": [],
   "source": [
    "for sg in classical_subgenres:\n",
    "    classical = classical.append(get_tracks('classical', sg)).reset_index(drop=True)\n",
    "    \n",
    "classical.head()"
   ]
  },
  {
   "cell_type": "markdown",
   "metadata": {},
   "source": [
    "#### Concatenation<a id='Concatenation'></a>\n",
    "\n",
    "Combining the songs from all of the major genres into a data frame"
   ]
  },
  {
   "cell_type": "code",
   "execution_count": null,
   "metadata": {},
   "outputs": [],
   "source": [
    "df = pd.concat([pop, rnb, hiphop, latin, reggae, edm, indie, rock, metal, country, jazz, classical])\n",
    "df.release_date = pd.to_datetime([rd.split('-')[0] for rd in df.release_date])\n",
    "for col in list(df.columns[7:]):\n",
    "    df[col] = pd.to_numeric(df[col])\n",
    "df.info()"
   ]
  },
  {
   "cell_type": "markdown",
   "metadata": {},
   "source": [
    "Adding extra features"
   ]
  },
  {
   "cell_type": "code",
   "execution_count": null,
   "metadata": {},
   "outputs": [],
   "source": [
    "df['speechiness'] = df[['speechiness']].apply(lambda x: (x-min(x))/(max(x)-min(x)))\n",
    "df['release_year'] = df.release_date.apply(lambda x: x.year)\n",
    "df['duration_min'] = df.duration_ms/(1000*60)\n",
    "df['duration_minsec'] = df.duration_min.apply(lambda x: str(math.floor(x))+' m, '+str(math.floor((x-math.floor(x))*60))+' s')\n",
    "df.head()"
   ]
  },
  {
   "cell_type": "markdown",
   "metadata": {},
   "source": [
    "Download dataframe to a csv file"
   ]
  },
  {
   "cell_type": "code",
   "execution_count": null,
   "metadata": {},
   "outputs": [],
   "source": [
    "df.to_csv('data/tracks.csv', index=False)"
   ]
  },
  {
   "cell_type": "markdown",
   "metadata": {},
   "source": [
    "### Collect Lyrics<a id='Lyrics'></a>\n",
    "\n",
    "Collecting the lyrics of each song in our dataframe from [genius.com](genius.com)."
   ]
  },
  {
   "cell_type": "code",
   "execution_count": null,
   "metadata": {},
   "outputs": [],
   "source": [
    "df = pd.read_csv('data/tracks.csv')\n",
    "df['lyrics_raw'] = None\n",
    "df.head()"
   ]
  },
  {
   "cell_type": "code",
   "execution_count": null,
   "metadata": {},
   "outputs": [],
   "source": [
    "df = get_track_lyrics(df)\n",
    "df.info()"
   ]
  },
  {
   "cell_type": "markdown",
   "metadata": {},
   "source": [
    "Download dataframe to a csv file"
   ]
  },
  {
   "cell_type": "code",
   "execution_count": null,
   "metadata": {},
   "outputs": [],
   "source": [
    "df.to_csv('data/tracks.csv', index=False)"
   ]
  },
  {
   "cell_type": "markdown",
   "metadata": {},
   "source": [
    "## Data Definitions<a id='DataDefinitions'></a>\n",
    "\n",
    "Definitions of the features in the audio features dataframe and the lyrics "
   ]
  },
  {
   "cell_type": "code",
   "execution_count": null,
   "metadata": {},
   "outputs": [],
   "source": [
    "af_definitions = pd.DataFrame(['Unique identifier', 'Track name', 'Artist name', 'Album name',\n",
    "                              'Date released', 'Subgenre of the major genre', 'Major genre',\n",
    "                              'The duration of the track in milliseconds',\n",
    "                               'The popularity of the track on Spotify',\n",
    "                               'How suitable a track is for dancing based on a combination of musical elements including tempo, rhythm stability, beat strength, and overall regularity. A value of 0.0 is least danceable and 1.0 is most danceable.',\n",
    "                              'A perceptual measure of intensity and activity on a scale of 0.0 to 1.0 . Typically, energetic tracks feel fast, loud, and noisy. For example, death metal has high energy, while a Bach prelude scores low on the scale. Perceptual features contributing to this attribute include dynamic range, perceived loudness, timbre, onset rate, and general entropy.',\n",
    "                              'The overall loudness of a track in decibels (dB). Loudness values are averaged across the entire track and are useful for comparing relative loudness of tracks. Loudness is the quality of a sound that is the primary psychological correlate of physical strength (amplitude). Values typical range between -60 and 0 db.',\n",
    "                              'Detects the presence of spoken words in a track. The more exclusively speech-like the recording (e.g. talk show, audio book, poetry), the closer to 1.0 the attribute value. Values above 0.66 describe tracks that are probably made entirely of spoken words. Values between 0.33 and 0.66 describe tracks that may contain both music and speech, either in sections or layered, including such cases as rap music. Values below 0.33 most likely represent music and other non-speech-like tracks.',\n",
    "                              '\tA confidence measure from 0.0 to 1.0 of whether the track is acoustic. 1.0 represents high confidence the track is acoustic.',\n",
    "                              'Predicts whether a track contains no vocals. “Ooh” and “aah” sounds are treated as instrumental in this context. Rap or spoken word tracks are clearly “vocal”. The closer the instrumentalness value is to 1.0, the greater likelihood the track contains no vocal content. Values above 0.5 are intended to represent instrumental tracks, but confidence is higher as the value approaches 1.0.',\n",
    "                              'Detects the presence of an audience in the recording. Higher liveness values represent an increased probability that the track was performed live. A value above 0.8 provides strong likelihood that the track is live.',\n",
    "                              'A measure from 0.0 to 1.0 describing the musical positiveness conveyed by a track. Tracks with high valence sound more positive (e.g. happy, cheerful, euphoric), while tracks with low valence sound more negative (e.g. sad, depressed, angry). ',\n",
    "                              'The overall estimated tempo of a track in beats per minute (BPM). In musical terminology, tempo is the speed or pace of a given piece and derives directly from the average beat duration.',\n",
    "                              'Mode indicates the modality (major or minor) of a track, the type of scale from which its melodic content is derived. Major is represented by 1 and minor is 0.',\n",
    "                              'Year released', 'The duration of the track in minutes', 'The duration of the track in minutes and seconds'],\n",
    "                                  index=af.columns,\n",
    "                                  columns=['definition'])\n",
    "\n",
    "lyrics_definitions = pd.DataFrame(['Unique identifier', 'Track name', 'Artist name', 'Song Lyrics'],\n",
    "                                  index=['track_id', 'track', 'artist', 'lyrics'],\n",
    "                                  columns=['definition'])"
   ]
  }
 ],
 "metadata": {
  "kernelspec": {
   "display_name": "Python 3",
   "language": "python",
   "name": "python3"
  },
  "language_info": {
   "codemirror_mode": {
    "name": "ipython",
    "version": 3
   },
   "file_extension": ".py",
   "mimetype": "text/x-python",
   "name": "python",
   "nbconvert_exporter": "python",
   "pygments_lexer": "ipython3",
   "version": "3.7.6"
  }
 },
 "nbformat": 4,
 "nbformat_minor": 4
}

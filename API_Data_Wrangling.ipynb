{
 "cells": [
  {
   "cell_type": "markdown",
   "metadata": {},
   "source": [
    "This exercise will require you to pull some data from the **Quandl API**. Quandl is currently the most widely used aggregator of financial market data."
   ]
  },
  {
   "cell_type": "markdown",
   "metadata": {},
   "source": [
    "*As a first step, register a free account on the http://www.quandl.com website.*"
   ]
  },
  {
   "cell_type": "markdown",
   "metadata": {},
   "source": [
    "After you register, you will be provided with a unique API key:"
   ]
  },
  {
   "cell_type": "code",
   "execution_count": 1,
   "metadata": {},
   "outputs": [],
   "source": [
    "API_KEY = 'PBWSMRzsW-m_Hb2HbMfU'"
   ]
  },
  {
   "cell_type": "markdown",
   "metadata": {},
   "source": [
    "This mini project focuses on equities data from the Frankfurt Stock Exhange (FSE). Analyze the stock prices of a company called Carl Zeiss Meditec, which manufactures tools for eye examinations, as well as medical lasers for laser eye surgery: https://www.zeiss.com/meditec/int/home.html. The company is listed under the stock ticker AFX_X."
   ]
  },
  {
   "cell_type": "markdown",
   "metadata": {},
   "source": [
    "You can find the detailed Quandl API instructions here: https://docs.quandl.com/docs/time-series"
   ]
  },
  {
   "cell_type": "markdown",
   "metadata": {},
   "source": [
    "Use the *requests* package, which can be easily downloaded using *pip* or *conda*. Documentation for the package can be found here: http://docs.python-requests.org/en/master/ "
   ]
  },
  {
   "cell_type": "markdown",
   "metadata": {},
   "source": [
    "Finally, apart from the *requests* package, do not use any third party Python packages, such as *pandas*, and instead utilize Python's native data structures (https://docs.python.org/3/tutorial/datastructures.html) as well as what's available in the Python Standard Library (the *collections* module might come in handy: https://pymotw.com/3/collections/)."
   ]
  },
  {
   "cell_type": "code",
   "execution_count": 2,
   "metadata": {},
   "outputs": [],
   "source": [
    "# First, import the relevant modules\n",
    "import requests\n",
    "import json\n",
    "import collections"
   ]
  },
  {
   "cell_type": "code",
   "execution_count": 3,
   "metadata": {},
   "outputs": [
    {
     "name": "stdout",
     "output_type": "stream",
     "text": [
      "<Response [200]>\n"
     ]
    },
    {
     "data": {
      "text/plain": [
       "'{\"dataset_data\":{\"limit\":null,\"transform\":null,\"column_index\":null,\"column_names\":[\"Date\",\"Open\",\"High\",\"Low\",\"Close\",\"Change\",\"Traded Volume\",\"Turnover\",\"Last Price of the Day\",\"Daily Traded Units\",\"Daily Turnover\"],\"start_date\":\"2017-01-01\",\"end_date\":\"2017-01-02\",\"frequency\":\"daily\",\"data\":[[\"2017-01-02\",34.99,35.94,34.99,35.8,null,44700.0,1590561.0,null,null,null]],\"collapse\":null,\"order\":null}}'"
      ]
     },
     "execution_count": 3,
     "metadata": {},
     "output_type": "execute_result"
    }
   ],
   "source": [
    "# Now, call the Quandl API and pull out a small sample of the data (only one day) to get a glimpse\n",
    "# into the JSON structure that will be returned\n",
    "url = 'https://www.quandl.com/api/v3/datasets'\n",
    "database_code = 'FSE'\n",
    "dataset_code = 'AFX_X'\n",
    "return_format = 'json'\n",
    "start_date = '2017-01-01'\n",
    "end_date = '2017-01-02'\n",
    "test = requests.get(f'{url}/{database_code}/{dataset_code}/data.{return_format}?start_date={start_date}&end_date={end_date}&api_key={API_KEY}')\n",
    "print(test)\n",
    "test.text"
   ]
  },
  {
   "cell_type": "code",
   "execution_count": 4,
   "metadata": {},
   "outputs": [
    {
     "data": {
      "text/plain": [
       "{'limit': None,\n",
       " 'transform': None,\n",
       " 'column_index': None,\n",
       " 'column_names': ['Date',\n",
       "  'Open',\n",
       "  'High',\n",
       "  'Low',\n",
       "  'Close',\n",
       "  'Change',\n",
       "  'Traded Volume',\n",
       "  'Turnover',\n",
       "  'Last Price of the Day',\n",
       "  'Daily Traded Units',\n",
       "  'Daily Turnover'],\n",
       " 'start_date': '2017-01-01',\n",
       " 'end_date': '2017-01-02',\n",
       " 'frequency': 'daily',\n",
       " 'data': [['2017-01-02',\n",
       "   34.99,\n",
       "   35.94,\n",
       "   34.99,\n",
       "   35.8,\n",
       "   None,\n",
       "   44700.0,\n",
       "   1590561.0,\n",
       "   None,\n",
       "   None,\n",
       "   None]],\n",
       " 'collapse': None,\n",
       " 'order': None}"
      ]
     },
     "execution_count": 4,
     "metadata": {},
     "output_type": "execute_result"
    }
   ],
   "source": [
    "# Inspect the JSON structure of the object you created, and take note of how nested it is,\n",
    "# as well as the overall structure\n",
    "json.loads(test.text)['dataset_data']"
   ]
  },
  {
   "cell_type": "markdown",
   "metadata": {},
   "source": [
    "These are the tasks for this mini project:\n",
    "\n",
    "1. Collect data from the Franfurt Stock Exchange, for the ticker AFX_X, for the whole year 2017 (keep in mind that the date format is YYYY-MM-DD).\n",
    "2. Convert the returned JSON object into a Python dictionary.\n",
    "3. Calculate what the highest and lowest opening prices were for the stock in this period.\n",
    "4. What was the largest change in any one day (based on High and Low price)?\n",
    "5. What was the largest change between any two days (based on Closing Price)?\n",
    "6. What was the average daily trading volume during this year?\n",
    "7. What was the median trading volume during this year?"
   ]
  },
  {
   "cell_type": "markdown",
   "metadata": {},
   "source": [
    "**1)** *Collect data from the Frankfurt Stock Exchange for the ticker AFX_X, for the whole year 2017*"
   ]
  },
  {
   "cell_type": "code",
   "execution_count": 5,
   "metadata": {},
   "outputs": [],
   "source": [
    "url = 'https://www.quandl.com/api/v3/datasets'\n",
    "database_code = 'FSE'\n",
    "dataset_code = 'AFX_X'\n",
    "return_format = 'json'\n",
    "start_date = '2017-01-01'\n",
    "end_date = '2017-12-31'\n",
    "res = requests.get(f'{url}/{database_code}/{dataset_code}/data.{return_format}?start_date={start_date}&end_date={end_date}&api_key={API_KEY}')"
   ]
  },
  {
   "cell_type": "markdown",
   "metadata": {},
   "source": [
    "**2)** *Convert the returned JSON object into a Python dictionary*"
   ]
  },
  {
   "cell_type": "code",
   "execution_count": 6,
   "metadata": {},
   "outputs": [
    {
     "name": "stdout",
     "output_type": "stream",
     "text": [
      "First 2 items: [('2017-12-29', {'Date': '2017-12-29', 'Open': 51.76, 'High': 51.94, 'Low': 51.45, 'Close': 51.76, 'Change': None, 'Traded Volume': 34640.0, 'Turnover': 1792304.0, 'Last Price of the Day': None, 'Daily Traded Units': None, 'Daily Turnover': None}), ('2017-12-28', {'Date': '2017-12-28', 'Open': 51.65, 'High': 51.82, 'Low': 51.43, 'Close': 51.6, 'Change': None, 'Traded Volume': 40660.0, 'Turnover': 2099024.0, 'Last Price of the Day': None, 'Daily Traded Units': None, 'Daily Turnover': None})]\n"
     ]
    }
   ],
   "source": [
    "data = json.loads(res.text)['dataset_data']\n",
    "data_dict = collections.OrderedDict()\n",
    "for i in list(range(0,len(data['data']))):\n",
    "    data_dict[data['data'][i][0]] = {}\n",
    "    for j in list(range(0,len(data['data'][i]))):\n",
    "        data_dict[data['data'][i][0]][data['column_names'][j]] = data['data'][i][j]\n",
    "\n",
    "print('First 2 items:', list(data_dict.items())[0:2])"
   ]
  },
  {
   "cell_type": "markdown",
   "metadata": {},
   "source": [
    "**3)** *Calculate what the highest and lowest opening prices were for the stock in this period*"
   ]
  },
  {
   "cell_type": "code",
   "execution_count": 7,
   "metadata": {},
   "outputs": [
    {
     "name": "stdout",
     "output_type": "stream",
     "text": [
      "Highest Opening Price: 53.11 on 2017-12-14\n",
      "Lowest Opening Price: 34.0 on 2017-01-24\n"
     ]
    }
   ],
   "source": [
    "max_price = 0\n",
    "max_price_date = ''\n",
    "min_price = 100\n",
    "min_price_date = ''\n",
    "\n",
    "for i in data_dict.keys():\n",
    "    opening = data_dict[i]['Open']\n",
    "    if (opening is None): continue\n",
    "    if (opening > max_price):\n",
    "        max_price = opening\n",
    "        max_price_date = data_dict[i]['Date']\n",
    "    if (opening < min_price):\n",
    "        min_price = opening\n",
    "        min_price_date = data_dict[i]['Date']\n",
    "\n",
    "print('Highest Opening Price:', max_price, 'on', max_price_date)\n",
    "print('Lowest Opening Price:', min_price, 'on', min_price_date)"
   ]
  },
  {
   "cell_type": "markdown",
   "metadata": {},
   "source": [
    "**4)** *What was the largest change in any one day (based on High and Low price)*"
   ]
  },
  {
   "cell_type": "code",
   "execution_count": 8,
   "metadata": {},
   "outputs": [
    {
     "name": "stdout",
     "output_type": "stream",
     "text": [
      "Largest Change: 2.8100000000000023 on 2017-05-11\n"
     ]
    }
   ],
   "source": [
    "max_change = 0\n",
    "max_change_date = ''\n",
    "\n",
    "for i in data_dict.keys():\n",
    "    change = data_dict[i]['High'] - data_dict[i]['Low']\n",
    "    if (change > max_change):\n",
    "        max_change = change\n",
    "        max_change_date = data_dict[i]['Date']\n",
    "\n",
    "print('Largest Change:', max_change, 'on', max_change_date)"
   ]
  },
  {
   "cell_type": "markdown",
   "metadata": {},
   "source": [
    "**5)** *What was the largest change between any two days (based on Closing Price)*"
   ]
  },
  {
   "cell_type": "code",
   "execution_count": 9,
   "metadata": {},
   "outputs": [
    {
     "name": "stdout",
     "output_type": "stream",
     "text": [
      "Largest Change: 2.8100000000000023 on 2017-05-11\n"
     ]
    }
   ],
   "source": [
    "max_change_2 = 0\n",
    "max_change_date_2 = ''\n",
    "prev_day = data_dict['2017-12-29']['Close']\n",
    "for i in list(data_dict.keys())[1:]:\n",
    "    change = data_dict[i]['Close'] - prev_day\n",
    "    prev_day = data_dict[i]['Close']\n",
    "    if (change > max_change):\n",
    "        max_change = change\n",
    "        max_change_date = data_dict[i]['Date']\n",
    "\n",
    "print('Largest Change:', max_change, 'on', max_change_date)"
   ]
  },
  {
   "cell_type": "markdown",
   "metadata": {},
   "source": [
    "**6)** *What was the average daily trading volume during this year*"
   ]
  },
  {
   "cell_type": "code",
   "execution_count": 10,
   "metadata": {},
   "outputs": [
    {
     "name": "stdout",
     "output_type": "stream",
     "text": [
      "Average Trading Volume: 89124.33725490196\n"
     ]
    }
   ],
   "source": [
    "trading_volumes = []\n",
    "\n",
    "for i in data_dict.keys():\n",
    "    trading_volumes.append(data_dict[i]['Traded Volume'])\n",
    "    \n",
    "print('Average Trading Volume:', sum(trading_volumes)/len(trading_volumes))"
   ]
  },
  {
   "cell_type": "markdown",
   "metadata": {},
   "source": [
    "**7)** *What was the median trading volume during this year*"
   ]
  },
  {
   "cell_type": "code",
   "execution_count": 11,
   "metadata": {},
   "outputs": [
    {
     "name": "stdout",
     "output_type": "stream",
     "text": [
      "Median: 76443.0\n"
     ]
    }
   ],
   "source": [
    "trading_volumes.sort()\n",
    "middle = len(trading_volumes)/2\n",
    "if middle.is_integer():\n",
    "    print('Median:', trading_volumes[middle])\n",
    "else:\n",
    "    middle = int(middle - 0.5)\n",
    "    median = (trading_volumes[middle]+trading_volumes[middle+1])/2 \n",
    "    print('Median:', median)"
   ]
  }
 ],
 "metadata": {
  "kernelspec": {
   "display_name": "Python 3",
   "language": "python",
   "name": "python3"
  },
  "language_info": {
   "codemirror_mode": {
    "name": "ipython",
    "version": 3
   },
   "file_extension": ".py",
   "mimetype": "text/x-python",
   "name": "python",
   "nbconvert_exporter": "python",
   "pygments_lexer": "ipython3",
   "version": "3.7.6"
  }
 },
 "nbformat": 4,
 "nbformat_minor": 2
}
